{
 "cells": [
  {
   "cell_type": "markdown",
   "metadata": {},
   "source": [
    "Edited by Mohamed Sayed on 27/11/2019. All errors are now my own.\n",
    "# Practical 7 - Part 1A\n",
    "\n",
    "The aim of part 1A is to calculate the homography that best maps two sets of points to one another.  We will (eventually) use this for creating panoramas, and for calculating the 3D pose of planes.  You should use this\n",
    "template for your code and fill in the missing sections marked \"TO DO\"\n"
   ]
  },
  {
   "cell_type": "markdown",
   "metadata": {},
   "source": [
    "## Import libraries "
   ]
  },
  {
   "cell_type": "code",
   "execution_count": 28,
   "metadata": {},
   "outputs": [],
   "source": [
    "%matplotlib inline\n",
    "import os \n",
    "import numpy as np\n",
    "import matplotlib.pyplot as plt\n",
    "import scipy.io as sio"
   ]
  },
  {
   "cell_type": "markdown",
   "metadata": {},
   "source": [
    "## Test case formulation\n",
    "\n",
    "To start with, let's set up some start points `pts1Cart` and a homography, `H`, that we can use to generate target points `pts2Cart`. We'll also add some noise to `pts2Cart` to simulate a real world environment. The challenge is to find the same homography, or as close as noise allows, given `pts1Cart` and `pts2Cart`.\n",
    "\n",
    "__NOTE:__ It may be helpful to set `noiseLevel` to 0 to start with so that you can check if your solution is spot on while debugging. Make sure you set it back to some value, here we use 4, when you're confident your solution works."
   ]
  },
  {
   "cell_type": "code",
   "execution_count": 29,
   "metadata": {},
   "outputs": [],
   "source": [
    "# Define a set of two-dimensional Cartesian points\n",
    "pts1Cart = np.array([[240.5000, 16.8351, 33.5890, 164.2696, 149.1911],\n",
    "                    [248.8770, 193.5890, 251.3901, 168.4581, 228.7723]])\n",
    "\n",
    "# Convert points into homogeneous representation\n",
    "pts1Hom = np.concatenate((pts1Cart, np.ones((1,pts1Cart.shape[1]))), axis=0)\n",
    "\n",
    "# Define a homography\n",
    "H = np.array([[0.6, 0.7, -100.],\n",
    "              [1.0, 0.6, 50.],\n",
    "              [0.001, 0.002, 1.0]])\n",
    "\n",
    "# Apply a homography to the points\n",
    "pts2Hom = np.matmul(H,pts1Hom)\n",
    "\n",
    "# Convert back to Cartesian coordinates\n",
    "pts2Cart = pts2Hom[0:2,:] / np.tile([pts2Hom[2,:]],(2,1))\n",
    "\n",
    "# Add a small amount of noise. Set this to zero to begin with to see if your homography solution is spot on.\n",
    "#TODO change back to 4\n",
    "noiseLevel = 4.0\n",
    "pts2Cart = pts2Cart + np.random.normal(0, noiseLevel, pts2Cart.shape)"
   ]
  },
  {
   "cell_type": "markdown",
   "metadata": {},
   "source": [
    "## Plotting\n",
    "\n",
    "Let's plot the the first original set of points, `pts1Cart`, in blue and the second set of points, `pts2Cart`, in red. "
   ]
  },
  {
   "cell_type": "code",
   "execution_count": 30,
   "metadata": {},
   "outputs": [
    {
     "data": {
      "image/png": "[encoded data removed]",
      "text/plain": [
       "<Figure size 640x480 with 1 Axes>"
      ]
     },
     "metadata": {},
     "output_type": "display_data"
    }
   ],
   "source": [
    "# Plot a green line between pairs of start points (blue) and transformed points (red).|\n",
    "nPoint = pts1Cart.shape[1]\n",
    "for cPoint in range(0, nPoint):\n",
    "    plt.plot([pts1Cart[0,cPoint], pts2Cart[0,cPoint]], [pts1Cart[1,cPoint], pts2Cart[1,cPoint]],'g-')\n",
    "    plt.plot(pts1Cart[0,cPoint],pts1Cart[1,cPoint],'b.', pts2Cart[0,cPoint],pts2Cart[1,cPoint],'r.') \n",
    "\n",
    "plt.show()"
   ]
  },
  {
   "cell_type": "markdown",
   "metadata": {},
   "source": [
    "## Homography estimation time!\n",
    "\n",
    "We've formulated our test example; now our goal is to estimate the homography that maps the first set of points to the second set of points.\n",
    "\n",
    "### ****TO DO****: Fill in the details of these routines (solveAXEqualsZero and calcBestHomography). "
   ]
  },
  {
   "cell_type": "code",
   "execution_count": 31,
   "metadata": {},
   "outputs": [],
   "source": [
    "def solveAXEqualsZero(A):\n",
    "    # TO DO: Write this routine - it should solve Ah = 0. You can do this using SVD. Consult your notes! \n",
    "    # Hint: SVD will be involved.\n",
    "    U, L, V = np.linalg.svd(A)\n",
    "    h = V[-1]\n",
    "  \n",
    "    return h"
   ]
  },
  {
   "cell_type": "code",
   "execution_count": 32,
   "metadata": {},
   "outputs": [],
   "source": [
    "def calcBestHomography(pts1Cart, pts2Cart):\n",
    "    \n",
    "    # This function should apply the direct linear transform (DLT) algorithm to calculate the best \n",
    "    # homography that maps the cartesian points in pts1Cart to their corresonding matching cartesian poitns \n",
    "    # in pts2Cart.\n",
    "    \n",
    "    # This function calls solveAXEqualsZero. Make sure you are wary of how to reshape h into a 3 by 3 matrix. \n",
    "\n",
    "    n_points = pts1Cart.shape[1]\n",
    "    \n",
    "    # TO DO: replace this:\n",
    "    H = np.eye(3)\n",
    "\n",
    "    # TO DO: \n",
    "    # First convert points into homogeneous representation\n",
    "    # Hint: we've done this before  in the skeleton code we provide.\n",
    "    pts1Hom = np.concatenate((pts1Cart, np.ones((1,pts1Cart.shape[1]))), axis=0)\n",
    "    print('hom1')\n",
    "    print(pts1Hom)\n",
    "    pts2Hom = np.concatenate((pts2Cart, np.ones((1,pts2Cart.shape[1]))), axis=0)\n",
    "    print('hom2')\n",
    "    print(pts2Hom)\n",
    "    \n",
    "    \n",
    "    # Then construct the matrix A, size (n_points * 2, 9)\n",
    "    # Consult the notes!\n",
    "    A = np.zeros((n_points * 2, 9))\n",
    "    #print(n_points)\n",
    "    j=0\n",
    "    for i in range(0, n_points*2, 2):\n",
    "        u = pts1Hom[0, j]\n",
    "        v = pts1Hom[1, j]\n",
    "        x = pts2Hom[0, j]\n",
    "        y = pts2Hom[1, j]\n",
    "        j = j+1\n",
    "        A[i,:] = np.concatenate((np.array([0,0,0]), np.array([-u,-v,-1]), np.array([y*u,y*v,y])), axis=0)\n",
    "        A[i+1,:] = np.concatenate((np.array([u,v,1]), np.array([0,0,0]), np.array([-x*u,-x*v,-x])), axis=0)\n",
    "        \n",
    "    print(A)\n",
    "    # Solve Ah = 0 using solveAXEqualsZero and get h.\n",
    "    H = solveAXEqualsZero(A).reshape(3,3)\n",
    "    print(H)\n",
    "    # Note that the solution h should be normalized such that h[2,2] = 1. If you don't do this\n",
    "    # subsequent calculations might be messed up.    \n",
    "    return H/H[2,2]"
   ]
  },
  {
   "cell_type": "markdown",
   "metadata": {},
   "source": [
    "## Test time!\n",
    "\n",
    "Time to put it all together. \n",
    "\n",
    "Now we need a way of measuring how well our mapping does. To do this we will apply our estimated mapping, `HEst`, to `pts1Cart` and obtain estimated points `pts2EstCart`. We will compare `pts2EstCart` and `pts2Cart` using a sum of squared difference to see how well our solution at least approximates the transformed noisy points `pts2Cart`.\n",
    "\n",
    "Red points on the plot are the noisy points we observe, `pts2Cart`, and the magenta points are the transformed points, `pts2EstCart`, that we get when we apply our estimated homography on `pts1Cart`. The black lines represent the error between both points; if you've set `noiseLevel` to 0, then `sqDiff` should be 0 and the points should overlap perfectly."
   ]
  },
  {
   "cell_type": "code",
   "execution_count": 33,
   "metadata": {},
   "outputs": [
    {
     "name": "stdout",
     "output_type": "stream",
     "text": [
      "hom1\n",
      "[[240.5     16.8351  33.589  164.2696 149.1911]\n",
      " [248.877  193.589  251.3901 168.4581 228.7723]\n",
      " [  1.       1.       1.       1.       1.    ]]\n",
      "hom2\n",
      "[[129.92589034  35.26803312  59.34896167  73.81537717  89.35615477]\n",
      " [257.33297202 132.13400605 150.62477775 208.62289058 217.91250232]\n",
      " [  1.           1.           1.           1.           1.        ]]\n",
      "[[ 0.00000000e+00  0.00000000e+00  0.00000000e+00 -2.40500000e+02\n",
      "  -2.48877000e+02 -1.00000000e+00  6.18885798e+04  6.40442581e+04\n",
      "   2.57332972e+02]\n",
      " [ 2.40500000e+02  2.48877000e+02  1.00000000e+00  0.00000000e+00\n",
      "   0.00000000e+00  0.00000000e+00 -3.12471766e+04 -3.23355658e+04\n",
      "  -1.29925890e+02]\n",
      " [ 0.00000000e+00  0.00000000e+00  0.00000000e+00 -1.68351000e+01\n",
      "  -1.93589000e+02 -1.00000000e+00  2.22448921e+03  2.55796901e+04\n",
      "   1.32134006e+02]\n",
      " [ 1.68351000e+01  1.93589000e+02  1.00000000e+00  0.00000000e+00\n",
      "   0.00000000e+00  0.00000000e+00 -5.93740864e+02 -6.82750326e+03\n",
      "  -3.52680331e+01]\n",
      " [ 0.00000000e+00  0.00000000e+00  0.00000000e+00 -3.35890000e+01\n",
      "  -2.51390100e+02 -1.00000000e+00  5.05933566e+03  3.78655779e+04\n",
      "   1.50624778e+02]\n",
      " [ 3.35890000e+01  2.51390100e+02  1.00000000e+00  0.00000000e+00\n",
      "   0.00000000e+00  0.00000000e+00 -1.99347227e+03 -1.49197414e+04\n",
      "  -5.93489617e+01]\n",
      " [ 0.00000000e+00  0.00000000e+00  0.00000000e+00 -1.64269600e+02\n",
      "  -1.68458100e+02 -1.00000000e+00  3.42703988e+04  3.51442158e+04\n",
      "   2.08622891e+02]\n",
      " [ 1.64269600e+02  1.68458100e+02  1.00000000e+00  0.00000000e+00\n",
      "   0.00000000e+00  0.00000000e+00 -1.21256225e+04 -1.24347982e+04\n",
      "  -7.38153772e+01]\n",
      " [ 0.00000000e+00  0.00000000e+00  0.00000000e+00 -1.49191100e+02\n",
      "  -2.28772300e+02 -1.00000000e+00  3.25106059e+04  4.98523444e+04\n",
      "   2.17912502e+02]\n",
      " [ 1.49191100e+02  2.28772300e+02  1.00000000e+00  0.00000000e+00\n",
      "   0.00000000e+00  0.00000000e+00 -1.33311430e+04 -2.04422130e+04\n",
      "  -8.93561548e+01]]\n",
      "[[-1.57316030e-03  3.17929913e-04 -1.22072414e-01]\n",
      " [-3.04703223e-03  3.46516954e-03 -9.92486959e-01]\n",
      " [-8.12110710e-06  2.11814750e-05 -6.64032740e-03]]\n",
      "Sqaured difference between pts2Cart and pts2EstCart is: 40.47\n"
     ]
    },
    {
     "data": {
      "image/png": "[encoded data removed]",
      "text/plain": [
       "<Figure size 640x480 with 1 Axes>"
      ]
     },
     "metadata": {},
     "output_type": "display_data"
    }
   ],
   "source": [
    "# Replace this with a call to the function calcBestHomography. You'll need to figure out which way around the \n",
    "# points go in the function, i.e. which direction this homography transforms points from and to. The ordering \n",
    "# is dead simple for now but acts as a simple exercise for what comes in later parts of this practical.\n",
    "HEst = calcBestHomography(pts1Cart, pts2Cart)\n",
    "\n",
    "# Apply estimated homography to points\n",
    "pts2EstHom = np.matmul(HEst,pts1Hom)\n",
    "\n",
    "# Convert back to Cartesian coordinates\n",
    "pts2EstCart = pts2EstHom[0:2,:] / np.tile([pts2EstHom[2,:]],(2,1))\n",
    "\n",
    "# Calculate the mean squared distance from actual points\n",
    "sqDiff = np.mean(sum((pts2Cart - pts2EstCart)**2))\n",
    "\n",
    "print(\"Sqaured difference between pts2Cart and pts2EstCart is: %.2f\" % sqDiff)\n",
    "\n",
    "# Draw figure with points before and after applying the estimated homography\n",
    "nPoint = pts1Cart.shape[1]\n",
    "\n",
    "# Plot a black line between pairs of actual points (red) and estimated points (magenta)\n",
    "for cPoint in range(0, nPoint):\n",
    "    plt.plot([pts2Cart[0,cPoint], pts2EstCart[0,cPoint]], [pts2Cart[1,cPoint], pts2EstCart[1,cPoint]],'k-')\n",
    "    plt.plot(pts2Cart[0,cPoint],pts2Cart[1,cPoint],'r.',pts2EstCart[0,cPoint],pts2EstCart[1,cPoint],'m.') \n",
    "\n",
    "plt.show()"
   ]
  },
  {
   "cell_type": "markdown",
   "metadata": {},
   "source": [
    "## Other things **** TO DO ****\n",
    "\n",
    "1: Convince yourself that the homography is ambiguous up to scale (by\n",
    "multiplying it by a constant factor and showing it does the same thing).\n",
    "Can you see why this is the case mathematically?\n",
    "\n",
    "2: Show empirically that your homography routine can EXACTLY map any four points to any\n",
    "other four points."
   ]
  },
  {
   "cell_type": "code",
   "execution_count": 34,
   "metadata": {},
   "outputs": [
    {
     "name": "stdout",
     "output_type": "stream",
     "text": [
      "[[126.82368888  32.50793216  59.80558667  74.19951313  94.48518401]\n",
      " [259.76235384 139.34573839 140.85829706 206.3656787  217.66499915]]\n",
      "[[126.82368888  32.50793216  59.80558667  74.19951313  94.48518401]\n",
      " [259.76235384 139.34573839 140.85829706 206.3656787  217.66499915]]\n"
     ]
    }
   ],
   "source": [
    "print(pts2EstCart)  # Outputs\n",
    "\n",
    "# Now multiply the homography by a scalar\n",
    "k = 2\n",
    "H2 = k * HEst\n",
    "\n",
    "# Apply the new homography to the point\n",
    "p_prime2 = H2 @ pts1Hom\n",
    "\n",
    "# Normalize to have a third coordinate of 1\n",
    "p_prime2EstCart = p_prime2[0:2,:] / np.tile([p_prime2[2,:]],(2,1))\n",
    "\n",
    "print(p_prime2EstCart) "
   ]
  },
  {
   "cell_type": "code",
   "execution_count": 36,
   "metadata": {},
   "outputs": [
    {
     "name": "stdout",
     "output_type": "stream",
     "text": [
      "hom1\n",
      "[[240.5     16.8351  33.589  164.2696 149.1911]\n",
      " [248.877  193.589  251.3901 168.4581 228.7723]\n",
      " [  1.       1.       1.       1.       1.    ]]\n",
      "hom2\n",
      "[[125.70884347  32.48784502  62.56729828  77.593613    93.14243158]\n",
      " [253.02757825 130.33247339 152.58250426 210.06357774 209.40250472]\n",
      " [  1.           1.           1.           1.           1.        ]]\n",
      "[[ 0.00000000e+00  0.00000000e+00  0.00000000e+00 -2.40500000e+02\n",
      "  -2.48877000e+02 -1.00000000e+00  6.08531326e+04  6.29727446e+04\n",
      "   2.53027578e+02]\n",
      " [ 2.40500000e+02  2.48877000e+02  1.00000000e+00  0.00000000e+00\n",
      "   0.00000000e+00  0.00000000e+00 -3.02329769e+04 -3.12860398e+04\n",
      "  -1.25708843e+02]\n",
      " [ 0.00000000e+00  0.00000000e+00  0.00000000e+00 -1.68351000e+01\n",
      "  -1.93589000e+02 -1.00000000e+00  2.19416022e+03  2.52309332e+04\n",
      "   1.30332473e+02]\n",
      " [ 1.68351000e+01  1.93589000e+02  1.00000000e+00  0.00000000e+00\n",
      "   0.00000000e+00  0.00000000e+00 -5.46936120e+02 -6.28928943e+03\n",
      "  -3.24878450e+01]\n",
      " [ 0.00000000e+00  0.00000000e+00  0.00000000e+00 -3.35890000e+01\n",
      "  -2.51390100e+02 -1.00000000e+00  5.12509374e+03  3.83577310e+04\n",
      "   1.52582504e+02]\n",
      " [ 3.35890000e+01  2.51390100e+02  1.00000000e+00  0.00000000e+00\n",
      "   0.00000000e+00  0.00000000e+00 -2.10157298e+03 -1.57287994e+04\n",
      "  -6.25672983e+01]\n",
      " [ 0.00000000e+00  0.00000000e+00  0.00000000e+00 -1.64269600e+02\n",
      "  -1.68458100e+02 -1.00000000e+00  3.45070599e+04  3.53869112e+04\n",
      "   2.10063578e+02]\n",
      " [ 1.64269600e+02  1.68458100e+02  1.00000000e+00  0.00000000e+00\n",
      "   0.00000000e+00  0.00000000e+00 -1.27462718e+04 -1.30712726e+04\n",
      "  -7.75936130e+01]\n",
      " [ 0.00000000e+00  0.00000000e+00  0.00000000e+00 -1.49191100e+02\n",
      "  -2.28772300e+02 -1.00000000e+00  3.12409900e+04  4.79054926e+04\n",
      "   2.09402505e+02]\n",
      " [ 1.49191100e+02  2.28772300e+02  1.00000000e+00  0.00000000e+00\n",
      "   0.00000000e+00  0.00000000e+00 -1.38960218e+04 -2.13084083e+04\n",
      "  -9.31424316e+01]]\n",
      "[[-5.36587421e-03 -6.26018658e-03  8.94312368e-01]\n",
      " [-8.94312368e-03 -5.36587421e-03 -4.47156184e-01]\n",
      " [-8.94312368e-06 -1.78862474e-05 -8.94312368e-03]]\n",
      "Sqaured difference between pts2Cart and pts2EstCart is: 0.00\n"
     ]
    },
    {
     "data": {
      "image/png": "[encoded data removed]",
      "text/plain": [
       "<Figure size 640x480 with 1 Axes>"
      ]
     },
     "metadata": {},
     "output_type": "display_data"
    },
    {
     "name": "stdout",
     "output_type": "stream",
     "text": [
      "True\n"
     ]
    }
   ],
   "source": [
    "noiseLevel = 0.0\n",
    "pts2Cart = pts2Hom[0:2,:] / np.tile([pts2Hom[2,:]],(2,1))\n",
    "pts2Cart = pts2Cart + np.random.normal(0, noiseLevel, pts2Cart.shape)\n",
    "HEst = calcBestHomography(pts1Cart, pts2Cart)\n",
    "\n",
    "# Apply estimated homography to points\n",
    "pts2EstHom = np.matmul(HEst,pts1Hom)\n",
    "\n",
    "# Convert back to Cartesian coordinates\n",
    "pts2EstCart = pts2EstHom[0:2,:] / np.tile([pts2EstHom[2,:]],(2,1))\n",
    "\n",
    "# Calculate the mean squared distance from actual points\n",
    "sqDiff = np.mean(sum((pts2Cart - pts2EstCart)**2))\n",
    "\n",
    "print(\"Sqaured difference between pts2Cart and pts2EstCart is: %.2f\" % sqDiff)\n",
    "\n",
    "# Draw figure with points before and after applying the estimated homography\n",
    "nPoint = pts1Cart.shape[1]\n",
    "\n",
    "# Plot a black line between pairs of actual points (red) and estimated points (magenta)\n",
    "for cPoint in range(0, nPoint):\n",
    "    plt.plot([pts2Cart[0,cPoint], pts2EstCart[0,cPoint]], [pts2Cart[1,cPoint], pts2EstCart[1,cPoint]],'k-')\n",
    "    plt.plot(pts2Cart[0,cPoint],pts2Cart[1,cPoint],'r.',pts2EstCart[0,cPoint],pts2EstCart[1,cPoint],'m.') \n",
    "\n",
    "plt.show()\n",
    "print(np.allclose(pts2EstCart, pts2Cart[None, :, :]))"
   ]
  }
 ],
 "metadata": {
  "kernelspec": {
   "display_name": "Python 3",
   "language": "python",
   "name": "python3"
  },
  "language_info": {
   "codemirror_mode": {
    "name": "ipython",
    "version": 3
   },
   "file_extension": ".py",
   "mimetype": "text/x-python",
   "name": "python",
   "nbconvert_exporter": "python",
   "pygments_lexer": "ipython3",
   "version": "3.9.18"
  }
 },
 "nbformat": 4,
 "nbformat_minor": 1
}
